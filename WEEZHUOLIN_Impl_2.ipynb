{
 "cells": [
  {
   "cell_type": "markdown",
   "id": "ced5d06c",
   "metadata": {},
   "source": [
    "Task: Predict the closing stock price of NASDAQ: NVDA for trading days from 25 October - 7\n",
    "November (inclusive). There will be no restrictions on the data sources used (e.g. you may use\n",
    "relevant macro-economic indicators). Predictions will be compared with actual (after 7 November,\n",
    "but you have to submit before 24 October) using RMSE. The lower the RMSE, the more accurate\n",
    "the prediction."
   ]
  },
  {
   "cell_type": "code",
   "execution_count": null,
   "id": "11aeca6c",
   "metadata": {},
   "outputs": [],
   "source": [
    "pip install pandas numpy scikit-learn tensorflow statsmodels"
   ]
  },
  {
   "cell_type": "code",
   "execution_count": null,
   "id": "3d0b0582",
   "metadata": {},
   "outputs": [],
   "source": [
    "import pandas as pd\n",
    "import numpy as np"
   ]
  },
  {
   "cell_type": "code",
   "execution_count": null,
   "id": "48eba362",
   "metadata": {},
   "outputs": [],
   "source": [
    "# Read CSV file containing historical price of NVDA from https://finance.yahoo.com/quote/NVDA/history?p=NVDA\n",
    "nvda_data = pd.read_csv('NVDA.csv')\n",
    "nvda_data.head()"
   ]
  },
  {
   "cell_type": "code",
   "execution_count": null,
   "id": "16bd9d72",
   "metadata": {},
   "outputs": [],
   "source": [
    "# Preprocess the data\n",
    "nvda_data['Date'] = pd.to_datetime(nvda_data['Date'])\n",
    "nvda_data.set_index('Date', inplace=True)\n",
    "nvda_data = nvda_data[['Close']]\n",
    "\n",
    "#Data cleaning\n",
    "nvda_data = nvda_data.dropna()\n",
    "\n",
    "nvda_data.head()"
   ]
  },
  {
   "cell_type": "code",
   "execution_count": null,
   "id": "3196488c",
   "metadata": {},
   "outputs": [],
   "source": [
    "# Splitting into train and test datasets\n",
    "# Define training and test periods\n",
    "train_end_date = \"2023-10-24\"\n",
    "# test_start_date = \"2023-10-12\"\n",
    "\n",
    "# Split the data\n",
    "train_data = nvda_data[nvda_data.index <= train_end_date]\n",
    "# test_data = nvda_data[(nvda_data.index >= test_start_date) & (nvda_data.index <= \"2023-10-24\")]"
   ]
  },
  {
   "cell_type": "markdown",
   "id": "b9290a67",
   "metadata": {},
   "source": [
    "Through trial and error, it appears that an ARIMA model(5,0,0) with d and q being as low as possible produces the lowest RMSE. This was contrary to my preconceived notion d (differencing order) should be higher as stock prices often exhibit complex non-stationary behavior due to trends and seasonality."
   ]
  },
  {
   "cell_type": "code",
   "execution_count": null,
   "id": "363d8cd1",
   "metadata": {},
   "outputs": [],
   "source": [
    "from statsmodels.tsa.arima.model import ARIMA\n",
    "\n",
    "# Initialize and train the ARIMA model\n",
    "model = ARIMA(train_data['Close'], order=(5,0,0))\n",
    "model_fit = model.fit()"
   ]
  },
  {
   "cell_type": "code",
   "execution_count": null,
   "id": "602cc7d8",
   "metadata": {},
   "outputs": [],
   "source": [
    "# # To test RMSE\n",
    "# # Make predictions for the test period\n",
    "# predictions = model_fit.forecast(steps=len(test_data))\n",
    "\n",
    "# from sklearn.metrics import mean_squared_error\n",
    "# import numpy as np\n",
    "\n",
    "# # Calculate RMSE\n",
    "# rmse = np.sqrt(mean_squared_error(test_data['Close'], predictions))\n",
    "# print(f\"Root Mean Squared Error (RMSE): {rmse:.2f}\")"
   ]
  },
  {
   "cell_type": "code",
   "execution_count": null,
   "id": "615abf4e",
   "metadata": {
    "scrolled": true
   },
   "outputs": [],
   "source": [
    "pred_start_date = \"2023-10-25\"\n",
    "pred_end_date = \"2023-11-07\"\n",
    "\n",
    "predictions = model_fit.forecast(steps=14)\n",
    "print(predictions)\n",
    "\n",
    "# Create a DataFrame for the forecasted data\n",
    "predicted_data = pd.DataFrame(predictions, )\n",
    "\n",
    "# Save the forecasted data to a CSV file\n",
    "predicted_data.to_csv('WEEZHUOLIN_Project_1_Impl2.csv')\n",
    "\n",
    "# Display the forecasted data\n",
    "print(predicted_data)"
   ]
  },
  {
   "cell_type": "code",
   "execution_count": null,
   "id": "49282971",
   "metadata": {},
   "outputs": [],
   "source": []
  }
 ],
 "metadata": {
  "kernelspec": {
   "display_name": "Python 3 (ipykernel)",
   "language": "python",
   "name": "python3"
  },
  "language_info": {
   "codemirror_mode": {
    "name": "ipython",
    "version": 3
   },
   "file_extension": ".py",
   "mimetype": "text/x-python",
   "name": "python",
   "nbconvert_exporter": "python",
   "pygments_lexer": "ipython3",
   "version": "3.9.16"
  }
 },
 "nbformat": 4,
 "nbformat_minor": 5
}
